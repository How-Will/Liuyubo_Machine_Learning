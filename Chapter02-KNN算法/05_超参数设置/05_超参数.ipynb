{
 "cells": [
  {
   "cell_type": "markdown",
   "id": "512dcefd",
   "metadata": {},
   "source": [
    "## 1. 超参数和模型参数\n",
    "\n",
    "1. 超参数：在算法运行前需要决定的参数\n",
    "2. 模型参数：在算法过程中学习得到的参数\n",
    "\n",
    "KNN算法没有模型参数，KNN算法中的k是典型的超参数"
   ]
  },
  {
   "cell_type": "code",
   "execution_count": 1,
   "id": "90d2579d",
   "metadata": {},
   "outputs": [
    {
     "data": {
      "text/plain": [
       "0.9916666666666667"
      ]
     },
     "execution_count": 1,
     "metadata": {},
     "output_type": "execute_result"
    }
   ],
   "source": [
    "import numpy as np\n",
    "from sklearn import datasets\n",
    "from sklearn.model_selection import train_test_split\n",
    "from sklearn.neighbors import KNeighborsClassifier\n",
    "\n",
    "digits = datasets.load_digits()\n",
    "X = digits.data\n",
    "y = digits.target\n",
    "\n",
    "X_train, X_test, y_train, y_test = train_test_split(X, y, test_size=0.2, random_state=666)\n",
    "\n",
    "knn_clf = KNeighborsClassifier(n_neighbors=3)\n",
    "knn_clf.fit(X_train, y_train)\n",
    "knn_clf.score(X_test, y_test)"
   ]
  },
  {
   "cell_type": "markdown",
   "id": "46c6164c",
   "metadata": {},
   "source": [
    "## 2. 超参数：k"
   ]
  },
  {
   "cell_type": "code",
   "execution_count": 3,
   "id": "23badb5e",
   "metadata": {},
   "outputs": [
    {
     "name": "stdout",
     "output_type": "stream",
     "text": [
      "best_k =  3\n",
      "best_score =  0.9916666666666667\n"
     ]
    }
   ],
   "source": [
    "best_score = 0.0\n",
    "best_k = -1\n",
    "for k in range(1, 11):\n",
    "    knn_clf = KNeighborsClassifier(n_neighbors=k)\n",
    "    knn_clf.fit(X_train, y_train)\n",
    "    score = knn_clf.score(X_test, y_test)\n",
    "    if score > best_score:\n",
    "        best_k = k\n",
    "        best_score = score\n",
    "\n",
    "print('best_k = ', best_k)\n",
    "print('best_score = ', best_score)"
   ]
  },
  {
   "cell_type": "markdown",
   "id": "8b37246c",
   "metadata": {},
   "source": [
    "## 3. 超参数：是否考虑距离权重\n",
    "\n",
    "KNN默认以投票数进行预测，不考虑不同距离权重不同"
   ]
  },
  {
   "cell_type": "code",
   "execution_count": 5,
   "id": "f9b0aa1c",
   "metadata": {},
   "outputs": [
    {
     "name": "stdout",
     "output_type": "stream",
     "text": [
      "best_method =  uniform\n",
      "best_k =  3\n",
      "best_score =  0.9916666666666667\n"
     ]
    }
   ],
   "source": [
    "best_score = 0.0\n",
    "best_k = -1\n",
    "best_method = ''\n",
    "\n",
    "for method in ['uniform', 'distance']:\n",
    "    for k in range(1, 11):\n",
    "        knn_clf = KNeighborsClassifier(n_neighbors=k, weights=method)\n",
    "        knn_clf.fit(X_train, y_train)\n",
    "        score = knn_clf.score(X_test, y_test)\n",
    "        if score > best_score:\n",
    "            best_k = k\n",
    "            best_method = method\n",
    "            best_score = score\n",
    "            \n",
    "print('best_method = ', best_method)\n",
    "print('best_k = ', best_k)\n",
    "print('best_score = ', best_score)"
   ]
  },
  {
   "cell_type": "markdown",
   "id": "7498c493",
   "metadata": {},
   "source": [
    "## 4. 超参数：p（使用哪种距离公式）\n",
    "\n",
    "KNN默认使用欧拉距离，根据明可夫斯基距离。我们可以考虑不同的p，所带来的准确度的提升"
   ]
  },
  {
   "cell_type": "code",
   "execution_count": 6,
   "id": "6a4c63dc",
   "metadata": {},
   "outputs": [
    {
     "name": "stdout",
     "output_type": "stream",
     "text": [
      "best_k = 3\n",
      "best_p = 2\n",
      "best_score = 0.9916666666666667\n",
      "Wall time: 17.5 s\n"
     ]
    }
   ],
   "source": [
    "%%time\n",
    "\n",
    "best_score = 0.0\n",
    "best_k = -1\n",
    "best_p = -1\n",
    "\n",
    "for k in range(1, 11):\n",
    "    for p in range(1, 6):\n",
    "        # weight,是否考虑权重，传入distance，表示考虑\n",
    "        knn_clf = KNeighborsClassifier(n_neighbors = k, weights = 'distance', p = p)\n",
    "        knn_clf.fit(X_train, y_train)\n",
    "        score = knn_clf.score(X_test, y_test)\n",
    "        if score > best_score:\n",
    "            best_score = score\n",
    "            best_p = p\n",
    "            best_k = k\n",
    "            \n",
    "print(\"best_k =\", best_k)\n",
    "print(\"best_p =\", best_p)\n",
    "print(\"best_score =\", best_score)"
   ]
  }
 ],
 "metadata": {
  "kernelspec": {
   "display_name": "Python 3",
   "language": "python",
   "name": "python3"
  },
  "language_info": {
   "codemirror_mode": {
    "name": "ipython",
    "version": 3
   },
   "file_extension": ".py",
   "mimetype": "text/x-python",
   "name": "python",
   "nbconvert_exporter": "python",
   "pygments_lexer": "ipython3",
   "version": "3.8.8"
  }
 },
 "nbformat": 4,
 "nbformat_minor": 5
}
