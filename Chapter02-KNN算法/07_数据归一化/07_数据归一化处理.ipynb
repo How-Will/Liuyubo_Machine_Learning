{
 "cells": [
  {
   "cell_type": "markdown",
   "id": "7e72fe41",
   "metadata": {},
   "source": [
    "## 1. 为什么要做数据归一化？\n",
    "\n",
    "以KNN算法为例，目前有两个肿瘤病人样本，每个样本有两个特征：\n",
    "1. 肿瘤大小（cm）\n",
    "2. 发现时间（天）\n",
    "\n",
    "样本1：1cm，200天  \n",
    "样本2：5cm，100天  \n",
    "计算两个样本间的距离时，会发现时间起了主导作用。可以发现，如果不对数据进行一些基本处理，直接计算两个样本的距离时，可能有偏差。故要做数据归一化，即将所有的数据映射到同一尺度。  \n",
    "常见的归一化方法：\n",
    "1. 最值归一化：把所有数据映射到0-1之间，适用于分布有明显边界的情况，缺点是受outlier（没有明显边界）影响比较大。\n",
    "2. 均值归一化：把所有的数据归一到均值为0，方差为1的分布中。适用于没有明显边界，可能存在极端数据值的情况。有明显边界使用该归一化方法也是有效的。**推荐**"
   ]
  },
  {
   "cell_type": "markdown",
   "id": "8568c736",
   "metadata": {},
   "source": [
    "## 2. 最值归一化"
   ]
  },
  {
   "cell_type": "code",
   "execution_count": 2,
   "id": "f24ba274",
   "metadata": {},
   "outputs": [
    {
     "data": {
      "text/plain": [
       "array([ 8, 60,  6, 28, 60, 17, 84, 27,  8, 60, 68, 21, 23, 66, 98, 59, 62,\n",
       "       28, 27, 55, 43, 17,  3,  2, 79, 68, 90, 86, 20, 88, 40, 59, 90, 82,\n",
       "       44, 77,  6, 95, 34, 77, 11, 24, 16, 46, 83, 82, 33,  8, 31, 46, 80,\n",
       "       72,  3,  7,  2, 47,  4, 32, 39, 59, 62, 20, 40, 84,  5, 94, 86, 45,\n",
       "       18, 83, 22, 86, 20,  6,  9, 16,  2, 34, 41, 74, 11, 85, 32, 47, 90,\n",
       "       29, 93, 71, 53, 92, 11, 33, 33, 65, 83, 50,  3, 80, 38, 68])"
      ]
     },
     "execution_count": 2,
     "metadata": {},
     "output_type": "execute_result"
    }
   ],
   "source": [
    "import numpy as np\n",
    "import matplotlib.pyplot as plt\n",
    "\n",
    "x = np.random.randint(0, 100, 100)  # 生成100个范围在[0,100)的随机数\n",
    "x"
   ]
  },
  {
   "cell_type": "code",
   "execution_count": 3,
   "id": "13b14972",
   "metadata": {},
   "outputs": [
    {
     "data": {
      "text/plain": [
       "array([0.0625    , 0.60416667, 0.04166667, 0.27083333, 0.60416667,\n",
       "       0.15625   , 0.85416667, 0.26041667, 0.0625    , 0.60416667,\n",
       "       0.6875    , 0.19791667, 0.21875   , 0.66666667, 1.        ,\n",
       "       0.59375   , 0.625     , 0.27083333, 0.26041667, 0.55208333,\n",
       "       0.42708333, 0.15625   , 0.01041667, 0.        , 0.80208333,\n",
       "       0.6875    , 0.91666667, 0.875     , 0.1875    , 0.89583333,\n",
       "       0.39583333, 0.59375   , 0.91666667, 0.83333333, 0.4375    ,\n",
       "       0.78125   , 0.04166667, 0.96875   , 0.33333333, 0.78125   ,\n",
       "       0.09375   , 0.22916667, 0.14583333, 0.45833333, 0.84375   ,\n",
       "       0.83333333, 0.32291667, 0.0625    , 0.30208333, 0.45833333,\n",
       "       0.8125    , 0.72916667, 0.01041667, 0.05208333, 0.        ,\n",
       "       0.46875   , 0.02083333, 0.3125    , 0.38541667, 0.59375   ,\n",
       "       0.625     , 0.1875    , 0.39583333, 0.85416667, 0.03125   ,\n",
       "       0.95833333, 0.875     , 0.44791667, 0.16666667, 0.84375   ,\n",
       "       0.20833333, 0.875     , 0.1875    , 0.04166667, 0.07291667,\n",
       "       0.14583333, 0.        , 0.33333333, 0.40625   , 0.75      ,\n",
       "       0.09375   , 0.86458333, 0.3125    , 0.46875   , 0.91666667,\n",
       "       0.28125   , 0.94791667, 0.71875   , 0.53125   , 0.9375    ,\n",
       "       0.09375   , 0.32291667, 0.32291667, 0.65625   , 0.84375   ,\n",
       "       0.5       , 0.01041667, 0.8125    , 0.375     , 0.6875    ])"
      ]
     },
     "execution_count": 3,
     "metadata": {},
     "output_type": "execute_result"
    }
   ],
   "source": [
    "# 进行最值归一化\n",
    "(x - np.min(x)) / (np.max(x) - np.min(x))"
   ]
  },
  {
   "cell_type": "code",
   "execution_count": 4,
   "id": "339cf0be",
   "metadata": {},
   "outputs": [
    {
     "data": {
      "text/plain": [
       "array([[60, 36],\n",
       "       [ 2, 41],\n",
       "       [30, 11],\n",
       "       [91,  7],\n",
       "       [71, 73],\n",
       "       [77, 77],\n",
       "       [54, 92],\n",
       "       [85, 60],\n",
       "       [31, 75],\n",
       "       [40, 13]])"
      ]
     },
     "execution_count": 4,
     "metadata": {},
     "output_type": "execute_result"
    }
   ],
   "source": [
    "# 对矩阵进行归一化\n",
    "X = np.random.randint(0, 100, (50, 2)) # 生成一个50 * 2的矩阵，每个元素的范围是[0,100)\n",
    "X[:10, :]  # 观察前10个样本"
   ]
  },
  {
   "cell_type": "code",
   "execution_count": 5,
   "id": "830f8ad2",
   "metadata": {},
   "outputs": [
    {
     "data": {
      "text/plain": [
       "array([[60., 36.],\n",
       "       [ 2., 41.],\n",
       "       [30., 11.],\n",
       "       [91.,  7.],\n",
       "       [71., 73.],\n",
       "       [77., 77.],\n",
       "       [54., 92.],\n",
       "       [85., 60.],\n",
       "       [31., 75.],\n",
       "       [40., 13.]])"
      ]
     },
     "execution_count": 5,
     "metadata": {},
     "output_type": "execute_result"
    }
   ],
   "source": [
    "# 因为我们归一化得到的结果是浮点数，而randint得到的整型，对它进行操作得到的仍是整型。故需要对X进行强制类型转换\n",
    "X = np.array(X, dtype=float)\n",
    "X[:10, :]"
   ]
  },
  {
   "cell_type": "code",
   "execution_count": 6,
   "id": "e5318fc1",
   "metadata": {},
   "outputs": [
    {
     "data": {
      "text/plain": [
       "array([[0.62105263, 0.36363636],\n",
       "       [0.01052632, 0.41414141],\n",
       "       [0.30526316, 0.11111111],\n",
       "       [0.94736842, 0.07070707],\n",
       "       [0.73684211, 0.73737374],\n",
       "       [0.8       , 0.77777778],\n",
       "       [0.55789474, 0.92929293],\n",
       "       [0.88421053, 0.60606061],\n",
       "       [0.31578947, 0.75757576],\n",
       "       [0.41052632, 0.13131313]])"
      ]
     },
     "execution_count": 6,
     "metadata": {},
     "output_type": "execute_result"
    }
   ],
   "source": [
    "# 对第一个特征（第一列）做归一化\n",
    "X[:, 0] = (X[:, 0] - np.min(X[:, 0])) / (np.max(X[:, 0]) - np.min(X[:, 0]))\n",
    "# 对第二个特征（第二列）做归一化\n",
    "X[:, 1] = (X[:, 1] - np.min(X[:, 1])) / (np.max(X[:, 1]) - np.min(X[:, 1]))\n",
    "# 观察归一化后的前10个样本\n",
    "X[:10, :]  # 做了最值归一化后，数据范围[0, 1]"
   ]
  },
  {
   "cell_type": "code",
   "execution_count": 7,
   "id": "3a28b153",
   "metadata": {},
   "outputs": [
    {
     "data": {
      "image/png": "[encoded data removed]",
      "text/plain": [
       "<Figure size 432x288 with 1 Axes>"
      ]
     },
     "metadata": {
      "needs_background": "light"
     },
     "output_type": "display_data"
    }
   ],
   "source": [
    "plt.scatter(X[:, 0], X[:, 1])\n",
    "plt.show()"
   ]
  },
  {
   "cell_type": "code",
   "execution_count": 9,
   "id": "39ee5817",
   "metadata": {},
   "outputs": [
    {
     "data": {
      "text/plain": [
       "(0.5193684210526315,\n",
       " 0.3203364574683617,\n",
       " 0.5060606060606061,\n",
       " 0.2905528823661546)"
      ]
     },
     "execution_count": 9,
     "metadata": {},
     "output_type": "execute_result"
    }
   ],
   "source": [
    "# 观察第一列数据的均值和方差 \n",
    "np.mean(X[:, 0]), np.std(X[:, 0]), np.mean(X[:, 1]), np.std(X[:, 1])"
   ]
  },
  {
   "cell_type": "markdown",
   "id": "6423845f",
   "metadata": {},
   "source": [
    "## 3. 均值方差归一化"
   ]
  },
  {
   "cell_type": "code",
   "execution_count": 10,
   "id": "4b3aca39",
   "metadata": {},
   "outputs": [
    {
     "data": {
      "text/plain": [
       "array([[94., 93.],\n",
       "       [64.,  5.],\n",
       "       [75., 59.],\n",
       "       [21., 45.],\n",
       "       [91., 41.],\n",
       "       [19., 59.],\n",
       "       [63., 49.],\n",
       "       [30.,  3.],\n",
       "       [33., 52.],\n",
       "       [89., 99.]])"
      ]
     },
     "execution_count": 10,
     "metadata": {},
     "output_type": "execute_result"
    }
   ],
   "source": [
    "X2 = np.random.randint(0, 100, (50, 2))\n",
    "X2 = np.array(X2, dtype = float)  # 数据类型转换\n",
    "X2[:10, :]"
   ]
  },
  {
   "cell_type": "code",
   "execution_count": 11,
   "id": "1724c725",
   "metadata": {},
   "outputs": [],
   "source": [
    "X2[:, 0] = (X2[:, 0] - np.mean(X2[:, 0])) / np.std(X2[:, 0])  # 均方差归一化\n",
    "X2[:, 1] = (X2[:, 1] - np.mean(X2[:, 1])) / np.std(X2[:, 1])"
   ]
  },
  {
   "cell_type": "code",
   "execution_count": 12,
   "id": "d720c281",
   "metadata": {},
   "outputs": [
    {
     "data": {
      "image/png": "[encoded data removed]",
      "text/plain": [
       "<Figure size 432x288 with 1 Axes>"
      ]
     },
     "metadata": {
      "needs_background": "light"
     },
     "output_type": "display_data"
    }
   ],
   "source": [
    "plt.scatter(X2[:, 0], X2[:, 1])\n",
    "plt.show()"
   ]
  },
  {
   "cell_type": "code",
   "execution_count": 13,
   "id": "56bf2815",
   "metadata": {},
   "outputs": [
    {
     "data": {
      "text/plain": [
       "(1.4210854715202004e-16, 1.0, 8.881784197001253e-17, 1.0)"
      ]
     },
     "execution_count": 13,
     "metadata": {},
     "output_type": "execute_result"
    }
   ],
   "source": [
    "# 观察第一列数据的均值和方差 \n",
    "np.mean(X2[:, 0]), np.std(X2[:, 0]), np.mean(X2[:, 1]), np.std(X2[:, 1])   # 均值为0，方差为1"
   ]
  }
 ],
 "metadata": {
  "kernelspec": {
   "display_name": "Python 3",
   "language": "python",
   "name": "python3"
  },
  "language_info": {
   "codemirror_mode": {
    "name": "ipython",
    "version": 3
   },
   "file_extension": ".py",
   "mimetype": "text/x-python",
   "name": "python",
   "nbconvert_exporter": "python",
   "pygments_lexer": "ipython3",
   "version": "3.8.8"
  }
 },
 "nbformat": 4,
 "nbformat_minor": 5
}
