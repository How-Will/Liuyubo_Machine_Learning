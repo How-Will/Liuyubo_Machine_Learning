{
 "cells": [
  {
   "cell_type": "markdown",
   "id": "31493d51",
   "metadata": {},
   "source": [
    "## 为什么要划分训练集和测试集？\n",
    "\n",
    "如果将训练得到的模型直接在真实环境中使用，那么\n",
    "\n",
    "1. 如果模型性能很差，有可能会造成真实的经济损失或安全风险\n",
    "2. 在真实环境中难以拿到真实的label，用来评价预测是否准确\n",
    "\n",
    "所以我们需要对训练集进行划分，划分为测试集和训练集。利用测试集来判断模型的好坏，从而在模型进入真实使用场景前对模型进行改进。"
   ]
  },
  {
   "cell_type": "markdown",
   "id": "72963197",
   "metadata": {},
   "source": [
    "## 2.1 手动实现数据集划分"
   ]
  },
  {
   "cell_type": "code",
   "execution_count": 1,
   "id": "e423a8a6",
   "metadata": {},
   "outputs": [],
   "source": [
    "import numpy as np\n",
    "import matplotlib.pyplot as plt\n",
    "from sklearn import datasets"
   ]
  },
  {
   "cell_type": "code",
   "execution_count": 2,
   "id": "d71ee60e",
   "metadata": {},
   "outputs": [
    {
     "data": {
      "text/plain": [
       "dict_keys(['data', 'target', 'frame', 'target_names', 'DESCR', 'feature_names', 'filename'])"
      ]
     },
     "execution_count": 2,
     "metadata": {},
     "output_type": "execute_result"
    }
   ],
   "source": [
    "# 鸢尾花数据集\n",
    "iris = datasets.load_iris()\n",
    "iris.keys()"
   ]
  },
  {
   "cell_type": "code",
   "execution_count": 4,
   "id": "f4188547",
   "metadata": {},
   "outputs": [
    {
     "data": {
      "text/plain": [
       "(150,)"
      ]
     },
     "execution_count": 4,
     "metadata": {},
     "output_type": "execute_result"
    }
   ],
   "source": [
    "X = iris.data # 样本数据\n",
    "y = iris.target # 标签\n",
    "X.shape\n",
    "y.shape"
   ]
  },
  {
   "cell_type": "code",
   "execution_count": 5,
   "id": "70599fd9",
   "metadata": {},
   "outputs": [
    {
     "data": {
      "text/plain": [
       "array([0, 0, 0, 0, 0, 0, 0, 0, 0, 0, 0, 0, 0, 0, 0, 0, 0, 0, 0, 0, 0, 0,\n",
       "       0, 0, 0, 0, 0, 0, 0, 0, 0, 0, 0, 0, 0, 0, 0, 0, 0, 0, 0, 0, 0, 0,\n",
       "       0, 0, 0, 0, 0, 0, 1, 1, 1, 1, 1, 1, 1, 1, 1, 1, 1, 1, 1, 1, 1, 1,\n",
       "       1, 1, 1, 1, 1, 1, 1, 1, 1, 1, 1, 1, 1, 1, 1, 1, 1, 1, 1, 1, 1, 1,\n",
       "       1, 1, 1, 1, 1, 1, 1, 1, 1, 1, 1, 1, 2, 2, 2, 2, 2, 2, 2, 2, 2, 2,\n",
       "       2, 2, 2, 2, 2, 2, 2, 2, 2, 2, 2, 2, 2, 2, 2, 2, 2, 2, 2, 2, 2, 2,\n",
       "       2, 2, 2, 2, 2, 2, 2, 2, 2, 2, 2, 2, 2, 2, 2, 2, 2, 2])"
      ]
     },
     "execution_count": 5,
     "metadata": {},
     "output_type": "execute_result"
    }
   ],
   "source": [
    "# train_test_split 将数据集划分为测试集和训练集\n",
    "y # 我们不能直接取一定量的数据作为测试集，因为y是默认排好序的。要随机取"
   ]
  },
  {
   "cell_type": "code",
   "execution_count": 6,
   "id": "b31a3c3a",
   "metadata": {},
   "outputs": [
    {
     "data": {
      "text/plain": [
       "array([116,  56,  74, 106,   3,  78, 133, 131,  46,  33,  20,  47,  77,\n",
       "        52,   6, 109,  26,  39, 118,  51, 129, 128, 123, 111, 122,  93,\n",
       "        90, 132,   8, 100,  69,  68, 102,  79,  76, 134,  95,  24,  88,\n",
       "        71,  40, 120, 115,  98,  34,  41, 113,  28,  50, 141, 107,  84,\n",
       "        63,  11,  94,  64,  16, 121, 108, 138,  87,  60,  15,  43,  81,\n",
       "         0, 145,  23,   5,  67, 104, 110,  30,  57, 149, 126, 105,   2,\n",
       "        91,  21,  83,  31,  65, 143,   1,  19,  42,  54,  96, 114,  97,\n",
       "        37,  49, 148,  35, 125,  55, 139,  66,  12,  32,   4,  75,  89,\n",
       "        29,  18,  62,  36,  99,  72,  53, 101,  92,  58,  10,  48,  13,\n",
       "       136, 124,  70, 146,  86, 119,  61, 137,  38, 140,  59,  45, 103,\n",
       "       117, 142, 127,  27,  17,  14,  25,  85,   7,  44,  80,  22, 112,\n",
       "         9, 135, 147, 144, 130,  73,  82])"
      ]
     },
     "execution_count": 6,
     "metadata": {},
     "output_type": "execute_result"
    }
   ],
   "source": [
    "# 我们要先做下shuffle，进行随机取样\n",
    "# 由于X和y是分离的，但标签和样本点是一一对应的，故有两种方法做shuffle\n",
    "# 1. 先将X和y进行合并后，shuffle，之后再拆分数据集\n",
    "# 2. 对索引进行shuffle\n",
    "shuffled_indexes = np.random.permutation(len(X))\n",
    "shuffled_indexes"
   ]
  },
  {
   "cell_type": "code",
   "execution_count": 8,
   "id": "344974d3",
   "metadata": {},
   "outputs": [],
   "source": [
    "test_ratio = 0.2 # 20%的数据作为测试集\n",
    "test_size = int(len(X) * test_ratio)\n",
    "test_indexes = shuffled_indexes[:test_size]\n",
    "train_indexes = shuffled_indexes[test_size:]"
   ]
  },
  {
   "cell_type": "code",
   "execution_count": 10,
   "id": "a057d89b",
   "metadata": {},
   "outputs": [
    {
     "data": {
      "text/plain": [
       "((120, 4), (120,), (30, 4), (30,))"
      ]
     },
     "execution_count": 10,
     "metadata": {},
     "output_type": "execute_result"
    }
   ],
   "source": [
    "# 利用fancyindex，划分测试集和训练集\n",
    "X_train = X[train_indexes]\n",
    "y_train = y[train_indexes]\n",
    "\n",
    "X_test = X[test_indexes]\n",
    "y_test = y[test_indexes]\n",
    "\n",
    "X_train.shape, y_train.shape, X_test.shape, y_test.shape"
   ]
  },
  {
   "cell_type": "markdown",
   "id": "358ee614",
   "metadata": {},
   "source": [
    "## 2.2 使用scikit-learn中的train_test_split"
   ]
  },
  {
   "cell_type": "code",
   "execution_count": 12,
   "id": "1ca6eb90",
   "metadata": {},
   "outputs": [
    {
     "data": {
      "text/plain": [
       "((120, 4), (120,), (30, 4), (30,))"
      ]
     },
     "execution_count": 12,
     "metadata": {},
     "output_type": "execute_result"
    }
   ],
   "source": [
    "from sklearn.model_selection import train_test_split\n",
    "\n",
    "# random_state是随机数种子，可以保证代码多次运行结果一致\n",
    "X_train, X_test, y_train, y_test = train_test_split(X, y, test_size=0.2, random_state=666) \n",
    "X_train.shape, y_train.shape, X_test.shape, y_test.shape"
   ]
  },
  {
   "cell_type": "markdown",
   "id": "69cf20c7",
   "metadata": {},
   "source": [
    "## 2.3 使用自封装的train_test_split方法"
   ]
  },
  {
   "cell_type": "code",
   "execution_count": 14,
   "id": "008b7525",
   "metadata": {},
   "outputs": [
    {
     "data": {
      "text/plain": [
       "((120, 4), (120,), (30, 4), (30,))"
      ]
     },
     "execution_count": 14,
     "metadata": {},
     "output_type": "execute_result"
    }
   ],
   "source": [
    "from playML.model_selection import train_test_split\n",
    "\n",
    "X_train, X_test, y_train, y_test = train_test_split(X, y)\n",
    "X_train.shape, y_train.shape, X_test.shape, y_test.shape"
   ]
  },
  {
   "cell_type": "markdown",
   "id": "76a6c976",
   "metadata": {},
   "source": [
    "## 对我们的KNN算法进行测试"
   ]
  },
  {
   "cell_type": "code",
   "execution_count": 16,
   "id": "6f8dc138",
   "metadata": {},
   "outputs": [],
   "source": [
    "from playML.KNN_simulation import KNNClassifier\n",
    "\n",
    "my_knn_clf = KNNClassifier(k = 3)\n",
    "my_knn_clf.fit(X_train, y_train)  # 模型拟合\n",
    "y_predict = my_knn_clf.predict(X_test)"
   ]
  },
  {
   "cell_type": "code",
   "execution_count": 17,
   "id": "bada085b",
   "metadata": {},
   "outputs": [
    {
     "data": {
      "text/plain": [
       "0.9333333333333333"
      ]
     },
     "execution_count": 17,
     "metadata": {},
     "output_type": "execute_result"
    }
   ],
   "source": [
    "sum(y_predict == y_test) / len(y_test)  # 正确率"
   ]
  }
 ],
 "metadata": {
  "kernelspec": {
   "display_name": "Python 3",
   "language": "python",
   "name": "python3"
  },
  "language_info": {
   "codemirror_mode": {
    "name": "ipython",
    "version": 3
   },
   "file_extension": ".py",
   "mimetype": "text/x-python",
   "name": "python",
   "nbconvert_exporter": "python",
   "pygments_lexer": "ipython3",
   "version": "3.8.8"
  }
 },
 "nbformat": 4,
 "nbformat_minor": 5
}
